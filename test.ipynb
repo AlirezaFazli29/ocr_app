{
 "cells": [
  {
   "cell_type": "code",
   "execution_count": 4,
   "metadata": {},
   "outputs": [],
   "source": [
    "from PIL import Image\n",
    "import pytesseract\n",
    "from io import BytesIO"
   ]
  },
  {
   "cell_type": "code",
   "execution_count": 5,
   "metadata": {},
   "outputs": [],
   "source": [
    "img = Image.open('/home/fazli-al/Desktop/Screenshot from 2024-12-30 10-53-39.png')"
   ]
  },
  {
   "cell_type": "code",
   "execution_count": 7,
   "metadata": {},
   "outputs": [],
   "source": [
    "txt = pytesseract.image_to_string(img)"
   ]
  },
  {
   "cell_type": "code",
   "execution_count": 9,
   "metadata": {},
   "outputs": [
    {
     "name": "stdout",
     "output_type": "stream",
     "text": [
      "ok. let us create a micro service based ocr project with tesseract and\n",
      "py teseract\n",
      "\n",
      "Creating a microservice for OCR (Optical Character Recognition) using Tesseract and the Python\n",
      "library (pyteSseract) involves several steps. Below is an outline for this project, including the\n",
      "components and code:\n",
      "\n",
      "Project Structure\n",
      "\n",
      "os Copy code\n",
      "\n",
      "ocr-microservice/\n",
      "FF app/\n",
      "\n",
      "| _init_.py\n",
      "| Fe main. py\n",
      "\n",
      "| Fe utils.py\n",
      "| requirements. txt\n",
      "\n",
      "[- Dockerfile\n",
      "TF docker-compose. yi\n",
      "(— README . mci\n",
      "\n",
      "Key Features\n",
      "1. Accept Image Input: Through an API, accept image files for OCR.\n",
      "\n",
      "2. Process Images with Tesseract: Use pytesseract to perform OCR and return the extracted\n",
      "text.\n",
      "\n",
      "3. Deploy as a Microservice: Containerize the application using Docker.\n",
      "\n",
      "Step 1: Application Code v\n",
      "\n"
     ]
    }
   ],
   "source": [
    "print(txt)"
   ]
  }
 ],
 "metadata": {
  "kernelspec": {
   "display_name": ".venv",
   "language": "python",
   "name": "python3"
  },
  "language_info": {
   "codemirror_mode": {
    "name": "ipython",
    "version": 3
   },
   "file_extension": ".py",
   "mimetype": "text/x-python",
   "name": "python",
   "nbconvert_exporter": "python",
   "pygments_lexer": "ipython3",
   "version": "3.12.3"
  }
 },
 "nbformat": 4,
 "nbformat_minor": 2
}
