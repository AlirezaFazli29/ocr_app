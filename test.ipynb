{
 "cells": [
  {
   "cell_type": "code",
   "execution_count": 35,
   "metadata": {},
   "outputs": [],
   "source": [
    "from PIL import Image\n",
    "import pytesseract\n",
    "from app.utils import language"
   ]
  },
  {
   "cell_type": "code",
   "execution_count": 30,
   "metadata": {},
   "outputs": [],
   "source": [
    "img = Image.open('/home/fazli-al/Desktop/22.png')"
   ]
  },
  {
   "cell_type": "code",
   "execution_count": 53,
   "metadata": {},
   "outputs": [],
   "source": [
    "txt = pytesseract.image_to_string(img, lang=language.English.value)"
   ]
  },
  {
   "cell_type": "code",
   "execution_count": 54,
   "metadata": {},
   "outputs": [
    {
     "data": {
      "text/plain": [
       "'ok. let us create a micro service based ocr project with tesseract and\\npy teseract\\n\\nCreating a microservice for OCR (Optical Character Recognition) using Tesseract and the Python\\nlibrary (pyteSseract) involves several steps. Below is an outline for this project, including the\\ncomponents and code:\\n\\nProject Structure\\n\\nos Copy code\\n\\nocr-microservice/\\nFF app/\\n\\n| _init_.py\\n| Fe main. py\\n\\n| Fe utils.py\\n| requirements. txt\\n\\n[- Dockerfile\\nTF docker-compose. yi\\n(— README . mci\\n\\nKey Features\\n1. Accept Image Input: Through an API, accept image files for OCR.\\n\\n2. Process Images with Tesseract: Use pytesseract to perform OCR and return the extracted\\ntext.\\n\\n3. Deploy as a Microservice: Containerize the application using Docker.\\n\\nStep 1: Application Code v\\n'"
      ]
     },
     "execution_count": 54,
     "metadata": {},
     "output_type": "execute_result"
    }
   ],
   "source": [
    "txt"
   ]
  }
 ],
 "metadata": {
  "kernelspec": {
   "display_name": ".venv",
   "language": "python",
   "name": "python3"
  },
  "language_info": {
   "codemirror_mode": {
    "name": "ipython",
    "version": 3
   },
   "file_extension": ".py",
   "mimetype": "text/x-python",
   "name": "python",
   "nbconvert_exporter": "python",
   "pygments_lexer": "ipython3",
   "version": "3.12.3"
  }
 },
 "nbformat": 4,
 "nbformat_minor": 2
}
